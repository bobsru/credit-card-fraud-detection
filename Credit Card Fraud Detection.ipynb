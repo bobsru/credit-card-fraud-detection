{
 "cells": [
  {
   "cell_type": "markdown",
   "metadata": {},
   "source": [
    "# Credit Card Fraud Detection Competition"
   ]
  },
  {
   "cell_type": "markdown",
   "metadata": {},
   "source": [
    "IEEE-CIS works across a variety of AI and machine learning areas, including deep neural networks, fuzzy systems, evolutionary computation, and swarm intelligence. Today they’re partnering with the world’s leading payment service company, Vesta Corporation, seeking the best solutions for fraud prevention industry.\n",
    "\n",
    "This notebook contains preprocessing and visualization of data given in this kaggle competition along with creating a Logistic Regression model in the end.\n",
    "\n",
    "For more information, go to: https://www.kaggle.com/c/ieee-fraud-detection/overview"
   ]
  },
  {
   "cell_type": "markdown",
   "metadata": {},
   "source": [
    "## Data Import and Merge"
   ]
  },
  {
   "cell_type": "code",
   "execution_count": 107,
   "metadata": {},
   "outputs": [
    {
     "data": {
      "text/plain": [
       "(590540, 434)"
      ]
     },
     "execution_count": 107,
     "metadata": {},
     "output_type": "execute_result"
    }
   ],
   "source": [
    "import pandas as pd\n",
    "import numpy as np\n",
    "import matplotlib.pyplot as plt\n",
    "import seaborn as sns\n",
    "from sklearn.model_selection import train_test_split\n",
    "\n",
    "# identity and transaction are given in 2 different csv files. \n",
    "# Read the data using pandas and merge the csv's with common column TransactionID\n",
    "id_raw_df   =pd.read_csv(\"train_identity.csv\")\n",
    "id_trans_df =pd.read_csv(\"train_transaction.csv\")\n",
    "train_full_df = pd.merge(id_trans_df, id_raw_df, on='TransactionID', how='left')\n",
    "train_full_df.shape"
   ]
  },
  {
   "cell_type": "markdown",
   "metadata": {},
   "source": [
    "## Data visualization"
   ]
  },
  {
   "cell_type": "code",
   "execution_count": 108,
   "metadata": {},
   "outputs": [
    {
     "data": {
      "text/html": [
       "<div>\n",
       "<style scoped>\n",
       "    .dataframe tbody tr th:only-of-type {\n",
       "        vertical-align: middle;\n",
       "    }\n",
       "\n",
       "    .dataframe tbody tr th {\n",
       "        vertical-align: top;\n",
       "    }\n",
       "\n",
       "    .dataframe thead th {\n",
       "        text-align: right;\n",
       "    }\n",
       "</style>\n",
       "<table border=\"1\" class=\"dataframe\">\n",
       "  <thead>\n",
       "    <tr style=\"text-align: right;\">\n",
       "      <th></th>\n",
       "      <th>TransactionID</th>\n",
       "      <th>isFraud</th>\n",
       "      <th>TransactionDT</th>\n",
       "      <th>TransactionAmt</th>\n",
       "      <th>ProductCD</th>\n",
       "      <th>card1</th>\n",
       "      <th>card2</th>\n",
       "      <th>card3</th>\n",
       "      <th>card4</th>\n",
       "      <th>card5</th>\n",
       "      <th>...</th>\n",
       "      <th>id_31</th>\n",
       "      <th>id_32</th>\n",
       "      <th>id_33</th>\n",
       "      <th>id_34</th>\n",
       "      <th>id_35</th>\n",
       "      <th>id_36</th>\n",
       "      <th>id_37</th>\n",
       "      <th>id_38</th>\n",
       "      <th>DeviceType</th>\n",
       "      <th>DeviceInfo</th>\n",
       "    </tr>\n",
       "  </thead>\n",
       "  <tbody>\n",
       "    <tr>\n",
       "      <th>0</th>\n",
       "      <td>2987000</td>\n",
       "      <td>0</td>\n",
       "      <td>86400</td>\n",
       "      <td>68.5</td>\n",
       "      <td>W</td>\n",
       "      <td>13926</td>\n",
       "      <td>NaN</td>\n",
       "      <td>150.0</td>\n",
       "      <td>discover</td>\n",
       "      <td>142.0</td>\n",
       "      <td>...</td>\n",
       "      <td>NaN</td>\n",
       "      <td>NaN</td>\n",
       "      <td>NaN</td>\n",
       "      <td>NaN</td>\n",
       "      <td>NaN</td>\n",
       "      <td>NaN</td>\n",
       "      <td>NaN</td>\n",
       "      <td>NaN</td>\n",
       "      <td>NaN</td>\n",
       "      <td>NaN</td>\n",
       "    </tr>\n",
       "    <tr>\n",
       "      <th>1</th>\n",
       "      <td>2987001</td>\n",
       "      <td>0</td>\n",
       "      <td>86401</td>\n",
       "      <td>29.0</td>\n",
       "      <td>W</td>\n",
       "      <td>2755</td>\n",
       "      <td>404.0</td>\n",
       "      <td>150.0</td>\n",
       "      <td>mastercard</td>\n",
       "      <td>102.0</td>\n",
       "      <td>...</td>\n",
       "      <td>NaN</td>\n",
       "      <td>NaN</td>\n",
       "      <td>NaN</td>\n",
       "      <td>NaN</td>\n",
       "      <td>NaN</td>\n",
       "      <td>NaN</td>\n",
       "      <td>NaN</td>\n",
       "      <td>NaN</td>\n",
       "      <td>NaN</td>\n",
       "      <td>NaN</td>\n",
       "    </tr>\n",
       "    <tr>\n",
       "      <th>2</th>\n",
       "      <td>2987002</td>\n",
       "      <td>0</td>\n",
       "      <td>86469</td>\n",
       "      <td>59.0</td>\n",
       "      <td>W</td>\n",
       "      <td>4663</td>\n",
       "      <td>490.0</td>\n",
       "      <td>150.0</td>\n",
       "      <td>visa</td>\n",
       "      <td>166.0</td>\n",
       "      <td>...</td>\n",
       "      <td>NaN</td>\n",
       "      <td>NaN</td>\n",
       "      <td>NaN</td>\n",
       "      <td>NaN</td>\n",
       "      <td>NaN</td>\n",
       "      <td>NaN</td>\n",
       "      <td>NaN</td>\n",
       "      <td>NaN</td>\n",
       "      <td>NaN</td>\n",
       "      <td>NaN</td>\n",
       "    </tr>\n",
       "    <tr>\n",
       "      <th>3</th>\n",
       "      <td>2987003</td>\n",
       "      <td>0</td>\n",
       "      <td>86499</td>\n",
       "      <td>50.0</td>\n",
       "      <td>W</td>\n",
       "      <td>18132</td>\n",
       "      <td>567.0</td>\n",
       "      <td>150.0</td>\n",
       "      <td>mastercard</td>\n",
       "      <td>117.0</td>\n",
       "      <td>...</td>\n",
       "      <td>NaN</td>\n",
       "      <td>NaN</td>\n",
       "      <td>NaN</td>\n",
       "      <td>NaN</td>\n",
       "      <td>NaN</td>\n",
       "      <td>NaN</td>\n",
       "      <td>NaN</td>\n",
       "      <td>NaN</td>\n",
       "      <td>NaN</td>\n",
       "      <td>NaN</td>\n",
       "    </tr>\n",
       "    <tr>\n",
       "      <th>4</th>\n",
       "      <td>2987004</td>\n",
       "      <td>0</td>\n",
       "      <td>86506</td>\n",
       "      <td>50.0</td>\n",
       "      <td>H</td>\n",
       "      <td>4497</td>\n",
       "      <td>514.0</td>\n",
       "      <td>150.0</td>\n",
       "      <td>mastercard</td>\n",
       "      <td>102.0</td>\n",
       "      <td>...</td>\n",
       "      <td>samsung browser 6.2</td>\n",
       "      <td>32.0</td>\n",
       "      <td>2220x1080</td>\n",
       "      <td>match_status:2</td>\n",
       "      <td>T</td>\n",
       "      <td>F</td>\n",
       "      <td>T</td>\n",
       "      <td>T</td>\n",
       "      <td>mobile</td>\n",
       "      <td>SAMSUNG SM-G892A Build/NRD90M</td>\n",
       "    </tr>\n",
       "  </tbody>\n",
       "</table>\n",
       "<p>5 rows × 434 columns</p>\n",
       "</div>"
      ],
      "text/plain": [
       "   TransactionID  isFraud  TransactionDT  TransactionAmt ProductCD  card1  \\\n",
       "0        2987000        0          86400            68.5         W  13926   \n",
       "1        2987001        0          86401            29.0         W   2755   \n",
       "2        2987002        0          86469            59.0         W   4663   \n",
       "3        2987003        0          86499            50.0         W  18132   \n",
       "4        2987004        0          86506            50.0         H   4497   \n",
       "\n",
       "   card2  card3       card4  card5  ...                id_31  id_32  \\\n",
       "0    NaN  150.0    discover  142.0  ...                  NaN    NaN   \n",
       "1  404.0  150.0  mastercard  102.0  ...                  NaN    NaN   \n",
       "2  490.0  150.0        visa  166.0  ...                  NaN    NaN   \n",
       "3  567.0  150.0  mastercard  117.0  ...                  NaN    NaN   \n",
       "4  514.0  150.0  mastercard  102.0  ...  samsung browser 6.2   32.0   \n",
       "\n",
       "       id_33           id_34  id_35 id_36 id_37  id_38  DeviceType  \\\n",
       "0        NaN             NaN    NaN   NaN   NaN    NaN         NaN   \n",
       "1        NaN             NaN    NaN   NaN   NaN    NaN         NaN   \n",
       "2        NaN             NaN    NaN   NaN   NaN    NaN         NaN   \n",
       "3        NaN             NaN    NaN   NaN   NaN    NaN         NaN   \n",
       "4  2220x1080  match_status:2      T     F     T      T      mobile   \n",
       "\n",
       "                      DeviceInfo  \n",
       "0                            NaN  \n",
       "1                            NaN  \n",
       "2                            NaN  \n",
       "3                            NaN  \n",
       "4  SAMSUNG SM-G892A Build/NRD90M  \n",
       "\n",
       "[5 rows x 434 columns]"
      ]
     },
     "execution_count": 108,
     "metadata": {},
     "output_type": "execute_result"
    }
   ],
   "source": [
    "train_full_df.head()"
   ]
  },
  {
   "cell_type": "code",
   "execution_count": 109,
   "metadata": {},
   "outputs": [
    {
     "data": {
      "text/plain": [
       "<matplotlib.axes._subplots.AxesSubplot at 0x11c2ca358>"
      ]
     },
     "execution_count": 109,
     "metadata": {},
     "output_type": "execute_result"
    },
    {
     "data": {
      "image/png": "[encoded data removed]",
      "text/plain": [
       "<Figure size 432x288 with 1 Axes>"
      ]
     },
     "metadata": {
      "needs_background": "light"
     },
     "output_type": "display_data"
    }
   ],
   "source": [
    "sns.countplot(train_full_df[\"isFraud\"])"
   ]
  },
  {
   "cell_type": "code",
   "execution_count": 110,
   "metadata": {},
   "outputs": [
    {
     "data": {
      "text/plain": [
       "Text(0, 0.5, 'Missing rate')"
      ]
     },
     "execution_count": 110,
     "metadata": {},
     "output_type": "execute_result"
    },
    {
     "data": {
      "image/png": "[encoded data removed]",
      "text/plain": [
       "<Figure size 2880x720 with 1 Axes>"
      ]
     },
     "metadata": {
      "needs_background": "light"
     },
     "output_type": "display_data"
    }
   ],
   "source": [
    "data_null = train_full_df.isnull().sum()/len(train_full_df) * 100\n",
    "data_null = data_null.drop(data_null[data_null == 0].index).sort_values(ascending=False)[:500]\n",
    "missing_data = pd.DataFrame({'Missing Ratio': data_null})\n",
    "missing_data.head()\n",
    "\n",
    "plt.subplots(figsize=(40,10))\n",
    "plt.xticks(rotation='90')\n",
    "sns.barplot(data_null.index, data_null)\n",
    "plt.xlabel('Features', fontsize=20)\n",
    "plt.ylabel('Missing rate', fontsize=20)"
   ]
  },
  {
   "cell_type": "code",
   "execution_count": 111,
   "metadata": {},
   "outputs": [
    {
     "data": {
      "image/png": "[encoded data removed]",
      "text/plain": [
       "<Figure size 432x288 with 1 Axes>"
      ]
     },
     "metadata": {
      "needs_background": "light"
     },
     "output_type": "display_data"
    }
   ],
   "source": [
    "plt.hist(train_full_df['TransactionAmt'],bins=5, range=(0, 500));"
   ]
  },
  {
   "cell_type": "markdown",
   "metadata": {},
   "source": [
    "## Data Preprocessing"
   ]
  },
  {
   "cell_type": "code",
   "execution_count": 112,
   "metadata": {},
   "outputs": [
    {
     "name": "stdout",
     "output_type": "stream",
     "text": [
      "More than 15% null: 274\n",
      "More than 95% repeated value: 39\n"
     ]
    },
    {
     "data": {
      "text/plain": [
       "['id_12',\n",
       " 'V140',\n",
       " 'V168',\n",
       " 'V281',\n",
       " 'V152',\n",
       " 'V170',\n",
       " 'V217',\n",
       " 'V268',\n",
       " 'V276',\n",
       " 'V329',\n",
       " 'id_27',\n",
       " 'V241',\n",
       " 'id_07',\n",
       " 'V177',\n",
       " 'V111',\n",
       " 'V135',\n",
       " 'V214',\n",
       " 'id_10',\n",
       " 'D3',\n",
       " 'V250',\n",
       " 'V39',\n",
       " 'V222',\n",
       " 'id_03',\n",
       " 'V277',\n",
       " 'V108',\n",
       " 'V92',\n",
       " 'V83',\n",
       " 'M7',\n",
       " 'V10',\n",
       " 'V175',\n",
       " 'V212',\n",
       " 'V75',\n",
       " 'V231',\n",
       " 'V218',\n",
       " 'V174',\n",
       " 'V109',\n",
       " 'V236',\n",
       " 'V227',\n",
       " 'V243',\n",
       " 'V164',\n",
       " 'D2',\n",
       " 'V235',\n",
       " 'V247',\n",
       " 'V270',\n",
       " 'id_37',\n",
       " 'V266',\n",
       " 'id_02',\n",
       " 'V197',\n",
       " 'id_26',\n",
       " 'V224',\n",
       " 'V185',\n",
       " 'V255',\n",
       " 'V190',\n",
       " 'V195',\n",
       " 'V213',\n",
       " 'V323',\n",
       " 'V336',\n",
       " 'id_09',\n",
       " 'D6',\n",
       " 'V4',\n",
       " 'V182',\n",
       " 'V188',\n",
       " 'V1',\n",
       " 'V211',\n",
       " 'V267',\n",
       " 'V334',\n",
       " 'V160',\n",
       " 'V251',\n",
       " 'id_13',\n",
       " 'V216',\n",
       " 'V50',\n",
       " 'V246',\n",
       " 'id_04',\n",
       " 'id_29',\n",
       " 'V110',\n",
       " 'id_23',\n",
       " 'id_01',\n",
       " 'V90',\n",
       " 'M1',\n",
       " 'V220',\n",
       " 'id_14',\n",
       " 'V6',\n",
       " 'V166',\n",
       " 'dist1',\n",
       " 'M5',\n",
       " 'V37',\n",
       " 'V187',\n",
       " 'id_30',\n",
       " 'V219',\n",
       " 'V84',\n",
       " 'V325',\n",
       " 'id_28',\n",
       " 'id_34',\n",
       " 'V113',\n",
       " 'V297',\n",
       " 'id_22',\n",
       " 'V180',\n",
       " 'R_emaildomain',\n",
       " 'V81',\n",
       " 'V183',\n",
       " 'V275',\n",
       " 'V147',\n",
       " 'V264',\n",
       " 'id_06',\n",
       " 'V198',\n",
       " 'V118',\n",
       " 'V330',\n",
       " 'V278',\n",
       " 'id_17',\n",
       " 'V143',\n",
       " 'V209',\n",
       " 'id_35',\n",
       " 'V5',\n",
       " 'V169',\n",
       " 'V196',\n",
       " 'V327',\n",
       " 'V79',\n",
       " 'V154',\n",
       " 'V114',\n",
       " 'V3',\n",
       " 'V49',\n",
       " 'V122',\n",
       " 'V151',\n",
       " 'V189',\n",
       " 'id_15',\n",
       " 'dist2',\n",
       " 'V274',\n",
       " 'V221',\n",
       " 'M4',\n",
       " 'M9',\n",
       " 'V80',\n",
       " 'V252',\n",
       " 'V157',\n",
       " 'V149',\n",
       " 'V203',\n",
       " 'V204',\n",
       " 'V44',\n",
       " 'V45',\n",
       " 'id_05',\n",
       " 'V300',\n",
       " 'V88',\n",
       " 'D15',\n",
       " 'V123',\n",
       " 'V8',\n",
       " 'V165',\n",
       " 'V202',\n",
       " 'V272',\n",
       " 'id_11',\n",
       " 'V148',\n",
       " 'V201',\n",
       " 'V116',\n",
       " 'V200',\n",
       " 'V191',\n",
       " 'V121',\n",
       " 'D8',\n",
       " 'D13',\n",
       " 'V36',\n",
       " 'V319',\n",
       " 'V150',\n",
       " 'V232',\n",
       " 'D11',\n",
       " 'D5',\n",
       " 'V89',\n",
       " 'V333',\n",
       " 'V229',\n",
       " 'V38',\n",
       " 'DeviceInfo',\n",
       " 'V223',\n",
       " 'V173',\n",
       " 'D14',\n",
       " 'V208',\n",
       " 'V260',\n",
       " 'M3',\n",
       " 'V254',\n",
       " 'V112',\n",
       " 'V311',\n",
       " 'V271',\n",
       " 'V40',\n",
       " 'V52',\n",
       " 'V210',\n",
       " 'V115',\n",
       " 'V42',\n",
       " 'id_32',\n",
       " 'id_19',\n",
       " 'V301',\n",
       " 'V153',\n",
       " 'V194',\n",
       " 'id_25',\n",
       " 'M6',\n",
       " 'C3',\n",
       " 'V332',\n",
       " 'id_36',\n",
       " 'V335',\n",
       " 'V225',\n",
       " 'V230',\n",
       " 'V242',\n",
       " 'V161',\n",
       " 'V179',\n",
       " 'V233',\n",
       " 'V337',\n",
       " 'V234',\n",
       " 'V238',\n",
       " 'V41',\n",
       " 'V192',\n",
       " 'V48',\n",
       " 'D4',\n",
       " 'V263',\n",
       " 'V171',\n",
       " 'V339',\n",
       " 'V269',\n",
       " 'V205',\n",
       " 'DeviceType',\n",
       " 'V249',\n",
       " 'V141',\n",
       " 'V2',\n",
       " 'V47',\n",
       " 'V139',\n",
       " 'V156',\n",
       " 'id_08',\n",
       " 'V107',\n",
       " 'V144',\n",
       " 'V262',\n",
       " 'id_24',\n",
       " 'V257',\n",
       " 'V138',\n",
       " 'V256',\n",
       " 'V322',\n",
       " 'V93',\n",
       " 'V240',\n",
       " 'V324',\n",
       " 'V273',\n",
       " 'V248',\n",
       " 'V172',\n",
       " 'V142',\n",
       " 'V226',\n",
       " 'V117',\n",
       " 'D12',\n",
       " 'V9',\n",
       " 'V237',\n",
       " 'V286',\n",
       " 'V85',\n",
       " 'V193',\n",
       " 'V258',\n",
       " 'V207',\n",
       " 'V244',\n",
       " 'V259',\n",
       " 'V145',\n",
       " 'id_38',\n",
       " 'V184',\n",
       " 'M8',\n",
       " 'id_31',\n",
       " 'V125',\n",
       " 'V35',\n",
       " 'V87',\n",
       " 'V326',\n",
       " 'V239',\n",
       " 'V181',\n",
       " 'V328',\n",
       " 'V76',\n",
       " 'V91',\n",
       " 'V331',\n",
       " 'id_33',\n",
       " 'V155',\n",
       " 'V159',\n",
       " 'V163',\n",
       " 'V86',\n",
       " 'V120',\n",
       " 'V46',\n",
       " 'V77',\n",
       " 'V215',\n",
       " 'V43',\n",
       " 'V11',\n",
       " 'D7',\n",
       " 'V178',\n",
       " 'V176',\n",
       " 'V206',\n",
       " 'V82',\n",
       " 'V94',\n",
       " 'M2',\n",
       " 'V51',\n",
       " 'V167',\n",
       " 'V261',\n",
       " 'V7',\n",
       " 'V245',\n",
       " 'V199',\n",
       " 'id_18',\n",
       " 'V253',\n",
       " 'V119',\n",
       " 'V265',\n",
       " 'V162',\n",
       " 'id_21',\n",
       " 'id_20',\n",
       " 'P_emaildomain',\n",
       " 'V305',\n",
       " 'V104',\n",
       " 'V78',\n",
       " 'V158',\n",
       " 'V186',\n",
       " 'V146',\n",
       " 'V228',\n",
       " 'V338',\n",
       " 'id_16',\n",
       " 'D9']"
      ]
     },
     "execution_count": 112,
     "metadata": {},
     "output_type": "execute_result"
    }
   ],
   "source": [
    "def get_too_many_null_attr(data):\n",
    "    many_null_cols = [col for col in data.columns if data[col].isnull().sum() / data.shape[0] > 0.15]\n",
    "    return many_null_cols\n",
    "\n",
    "def get_too_many_repeated_val(data):\n",
    "    big_top_value_cols = [col for col in data.columns if data[col].value_counts(dropna=False, normalize=True).values[0] > 0.95]\n",
    "    return big_top_value_cols\n",
    "\n",
    "def get_useless_columns(data):\n",
    "    too_many_null = get_too_many_null_attr(data)\n",
    "    print(\"More than 15% null: \" + str(len(too_many_null)))\n",
    "    too_many_repeated = get_too_many_repeated_val(data)\n",
    "    print(\"More than 95% repeated value: \" + str(len(too_many_repeated)))\n",
    "    cols_to_drop = list(set(too_many_null + too_many_repeated))\n",
    "    cols_to_drop.remove('isFraud')\n",
    "    return cols_to_drop\n",
    "\n",
    "cols_to_drop = get_useless_columns(train_full_df)\n",
    "train_full_df = train_full_df.drop(cols_to_drop, axis=1)\n",
    "cols_to_drop"
   ]
  },
  {
   "cell_type": "markdown",
   "metadata": {},
   "source": [
    "## Convert columns to numeric"
   ]
  },
  {
   "cell_type": "code",
   "execution_count": 113,
   "metadata": {},
   "outputs": [],
   "source": [
    "card6_dummy_df=pd.get_dummies(train_full_df[\"card6\"])\n",
    "train_full_df=pd.concat([train_full_df,card6_dummy_df],axis=1)\n",
    "train_full_df=train_full_df._get_numeric_data()\n",
    "train_full_df=train_full_df.dropna()\n",
    "x_full_df=train_full_df.drop([\"isFraud\"],axis=1)\n",
    "y_full_df=train_full_df[\"isFraud\"]\n",
    "\n",
    "\n",
    "X_train,X_test,y_train,y_test=train_test_split(x_full_df,y_full_df,test_size=0.50)"
   ]
  },
  {
   "cell_type": "markdown",
   "metadata": {},
   "source": [
    "## LogisticRegression"
   ]
  },
  {
   "cell_type": "code",
   "execution_count": 114,
   "metadata": {},
   "outputs": [],
   "source": [
    "from sklearn.linear_model import LogisticRegression  \n",
    "from sklearn.preprocessing import StandardScaler  \n",
    "\n",
    "from sklearn.metrics import confusion_matrix\n",
    "from sklearn.metrics import classification_report\n",
    "\n",
    "from sklearn.metrics import recall_score\n",
    "from sklearn.metrics import accuracy_score"
   ]
  },
  {
   "cell_type": "code",
   "execution_count": 115,
   "metadata": {},
   "outputs": [
    {
     "data": {
      "text/plain": [
       "LogisticRegression(C=1.0, class_weight=None, dual=False, fit_intercept=True,\n",
       "                   intercept_scaling=1, l1_ratio=None, max_iter=100,\n",
       "                   multi_class='warn', n_jobs=None, penalty='l2',\n",
       "                   random_state=None, solver='lbfgs', tol=0.0001, verbose=0,\n",
       "                   warm_start=False)"
      ]
     },
     "execution_count": 115,
     "metadata": {},
     "output_type": "execute_result"
    }
   ],
   "source": [
    "lr = LogisticRegression(solver='lbfgs')  \n",
    "lr.fit(X_train, y_train)  "
   ]
  },
  {
   "cell_type": "code",
   "execution_count": 116,
   "metadata": {},
   "outputs": [],
   "source": [
    "y_pred=lr.predict(X_test)"
   ]
  },
  {
   "cell_type": "code",
   "execution_count": 117,
   "metadata": {},
   "outputs": [
    {
     "data": {
      "text/plain": [
       "0.9797364967142119"
      ]
     },
     "execution_count": 117,
     "metadata": {},
     "output_type": "execute_result"
    }
   ],
   "source": [
    "accuracy_score(y_test, y_pred)"
   ]
  }
 ],
 "metadata": {
  "kernelspec": {
   "display_name": "Python 3",
   "language": "python",
   "name": "python3"
  },
  "language_info": {
   "codemirror_mode": {
    "name": "ipython",
    "version": 3
   },
   "file_extension": ".py",
   "mimetype": "text/x-python",
   "name": "python",
   "nbconvert_exporter": "python",
   "pygments_lexer": "ipython3",
   "version": "3.7.3"
  }
 },
 "nbformat": 4,
 "nbformat_minor": 4
}
